{
 "cells": [
  {
   "cell_type": "code",
   "execution_count": 140,
   "metadata": {},
   "outputs": [],
   "source": [
    "import requests\n",
    "from bs4 import BeautifulSoup"
   ]
  },
  {
   "cell_type": "code",
   "execution_count": 141,
   "metadata": {},
   "outputs": [],
   "source": [
    "def get_html(url):# получение url кода\n",
    "    r = requests.get(url)\n",
    "    return r.text"
   ]
  },
  {
   "cell_type": "code",
   "execution_count": 142,
   "metadata": {},
   "outputs": [],
   "source": [
    "page = get_html('https://www.olx.kz/transport/legkovye-avtomobili/kostanay/')"
   ]
  },
  {
   "cell_type": "code",
   "execution_count": 143,
   "metadata": {},
   "outputs": [],
   "source": [
    "soup = BeautifulSoup(page, 'lxml')"
   ]
  },
  {
   "cell_type": "markdown",
   "metadata": {},
   "source": [
    "# Stage 1\n",
    "###### Getting last page\n"
   ]
  },
  {
   "cell_type": "code",
   "execution_count": 144,
   "metadata": {},
   "outputs": [],
   "source": [
    "stg_1 = soup.findAll('a', {'class': 'block br3 brc8 large tdnone lheight24'})"
   ]
  },
  {
   "cell_type": "code",
   "execution_count": 161,
   "metadata": {},
   "outputs": [],
   "source": [
    "stg_1_list =[]\n",
    "for a in stg_1:\n",
    "    stg_1_list.append( a['href'])\n",
    "    #print( a['href'])"
   ]
  },
  {
   "cell_type": "code",
   "execution_count": 162,
   "metadata": {},
   "outputs": [],
   "source": [
    "max_page = stg_1_list[-1].replace('https://www.olx.kz/transport/legkovye-avtomobili/kostanay/?page=','')"
   ]
  },
  {
   "cell_type": "code",
   "execution_count": 163,
   "metadata": {},
   "outputs": [
    {
     "data": {
      "text/plain": [
       "'53'"
      ]
     },
     "execution_count": 163,
     "metadata": {},
     "output_type": "execute_result"
    }
   ],
   "source": [
    "max_page"
   ]
  },
  {
   "cell_type": "code",
   "execution_count": 166,
   "metadata": {},
   "outputs": [],
   "source": [
    "page_list = []\n",
    "for i in range(1,int(max_page)+1):\n",
    "    page_list.append('https://www.olx.kz/transport/legkovye-avtomobili/kostanay/?page='+str(i))\n",
    "    #print('https://www.olx.kz/transport/legkovye-avtomobili/kostanay/?page='+str(i))"
   ]
  },
  {
   "cell_type": "markdown",
   "metadata": {},
   "source": [
    "# Stage 2\n",
    "##### Getting all href in current page"
   ]
  },
  {
   "cell_type": "code",
   "execution_count": 150,
   "metadata": {},
   "outputs": [],
   "source": [
    "stg_2 = soup.findAll('a', {'class': 'marginright5 link linkWithHash detailsLink'})#,href=True)"
   ]
  },
  {
   "cell_type": "code",
   "execution_count": 151,
   "metadata": {},
   "outputs": [
    {
     "name": "stdout",
     "output_type": "stream",
     "text": [
      "https://www.olx.kz/obyavlenie/prodam-vazlada2107-IDdK65K.html#03496c02b7;promoted\n",
      "https://www.olx.kz/obyavlenie/kostanay-vaz-2107-2007-na-gazu-inzhektor-rossiyskiy-uchet-IDdJcaC.html#03496c02b7;promoted\n",
      "https://www.olx.kz/obyavlenie/zaz-chance-2013-IDd6iRO.html#03496c02b7;promoted\n",
      "https://www.olx.kz/obyavlenie/folksvagen-vento-v-horoshem-sostoyanii-ne-bitaya-ne-gnilaya-IDdFLx6.html#03496c02b7;promoted\n",
      "https://www.olx.kz/obyavlenie/niva-2121-v-rodnoy-kraske-IDcEugm.html#03496c02b7;promoted\n",
      "https://www.olx.kz/obyavlenie/obmen-uchastka-na-avtomobil-libo-prodazha-IDaMINM.html#03496c02b7\n",
      "https://www.olx.kz/obyavlenie/prodam-vaz-2113-IDdKVGE.html#03496c02b7\n",
      "https://www.olx.kz/obyavlenie/prodam-golf-3-IDdKVpM.html#03496c02b7\n",
      "https://www.olx.kz/obyavlenie/gaz-33302-IDdKWIK.html#03496c02b7\n",
      "https://www.olx.kz/obyavlenie/miniven-IDdCFyg.html#03496c02b7;promoted\n",
      "https://www.olx.kz/obyavlenie/sedan-IDdDetc.html#03496c02b7;promoted\n",
      "https://www.olx.kz/obyavlenie/500000-IDdKUWg.html#03496c02b7\n",
      "https://www.olx.kz/obyavlenie/lada-granta-v-otlichnom-sostoyanii-IDdKUzV.html#03496c02b7\n",
      "https://www.olx.kz/obyavlenie/prodam-mercedes-vito-ID93n9o.html#03496c02b7\n",
      "https://www.olx.kz/obyavlenie/volkswagen-crafter-ID9TQeG.html#03496c02b7;promoted\n",
      "https://www.olx.kz/obyavlenie/audi-80-audi-80-IDdKU1U.html#03496c02b7\n",
      "https://www.olx.kz/obyavlenie/avtomobil-audi-80-IDdKTL4.html#03496c02b7\n",
      "https://www.olx.kz/obyavlenie/prodam-audi-a6-kaplya-IDcRrvv.html#03496c02b7\n",
      "https://www.olx.kz/obyavlenie/obmen-na-loshadey-zherebyat-IDdKSPY.html#03496c02b7\n",
      "https://www.olx.kz/obyavlenie/priora-na-gazu-IDdKTiI.html#03496c02b7\n",
      "https://www.olx.kz/obyavlenie/srochno-prodam-vaz-2106-IDdKTj4.html#03496c02b7\n",
      "https://www.olx.kz/obyavlenie/prodam-folksvagen-IDdKT6e.html#03496c02b7\n",
      "https://www.olx.kz/obyavlenie/prodam-folksvagen-krafter-ID8Xn3g.html#03496c02b7;promoted\n",
      "https://www.olx.kz/obyavlenie/prodam-avtomobil-audi-q5-2009-IDdqyOI.html#03496c02b7\n",
      "https://www.olx.kz/obyavlenie/gazel-gaz-benzin-IDdKRD4.html#03496c02b7\n",
      "https://www.olx.kz/obyavlenie/vw-t4-multiven-IDc5k6q.html#03496c02b7\n",
      "https://www.olx.kz/obyavlenie/toyota-rav4-2002-god-2-9-mln-tenge-IDdEa7i.html#03496c02b7\n",
      "https://www.olx.kz/obyavlenie/prodam-IDdrHrE.html#03496c02b7\n",
      "https://www.olx.kz/obyavlenie/prodam-IDdKQRG.html#03496c02b7\n",
      "https://www.olx.kz/obyavlenie/folksvagen-passat-IDdplxa.html#03496c02b7\n",
      "https://www.olx.kz/obyavlenie/prodam-vaz-21099-IDdoCz8.html#03496c02b7\n",
      "https://www.olx.kz/obyavlenie/vaz-2106-IDdKOXq.html#03496c02b7\n",
      "https://www.olx.kz/obyavlenie/vaz-2107-IDdKOGS.html#03496c02b7\n",
      "https://www.olx.kz/obyavlenie/vykup-avto-IDd7CgY.html#03496c02b7\n",
      "https://www.olx.kz/obyavlenie/geely-2015-IDc6rdi.html#03496c02b7\n",
      "https://www.olx.kz/obyavlenie/prodam-IDdKNzO.html#03496c02b7\n",
      "https://www.olx.kz/obyavlenie/vaz-2115-IDdKNt6.html#03496c02b7\n",
      "https://www.olx.kz/obyavlenie/prodam-mers-e-200-IDdKNfq.html#03496c02b7\n",
      "https://www.olx.kz/obyavlenie/hyundai-i40-IDc6eWa.html#03496c02b7\n",
      "https://www.olx.kz/obyavlenie/audi-a8-IDd4f4K.html#03496c02b7\n",
      "https://www.olx.kz/obyavlenie/lada-granta-2013-IDdr7Cc.html#03496c02b7\n",
      "https://www.olx.kz/obyavlenie/vaz-2110-na-gazu-IDdKMis.html#03496c02b7\n",
      "https://www.olx.kz/obyavlenie/prodam-audi-80-ne-na-hodu-IDdKM2v.html#03496c02b7\n",
      "https://www.olx.kz/obyavlenie/prodam-avto-ne-dorogo-IDdKMhe.html#03496c02b7\n"
     ]
    }
   ],
   "source": [
    "stg_2_list =[]\n",
    "for a in stg_2:\n",
    "    stg_2_list.append( a['href'])\n",
    "    print( a['href'])"
   ]
  },
  {
   "cell_type": "markdown",
   "metadata": {},
   "source": [
    "# Stage 3\n",
    "##### Getting number"
   ]
  },
  {
   "cell_type": "code",
   "execution_count": 153,
   "metadata": {},
   "outputs": [],
   "source": [
    "page_tmp = get_html(stg_2_list[1])"
   ]
  },
  {
   "cell_type": "code",
   "execution_count": 154,
   "metadata": {},
   "outputs": [],
   "source": [
    "soup_tmp = BeautifulSoup(page_tmp, 'lxml')"
   ]
  },
  {
   "cell_type": "code",
   "execution_count": 155,
   "metadata": {},
   "outputs": [],
   "source": [
    "stg_3 = soup_tmp.findAll('div', {'class': \"contact-button link-phone {'path':'phone', 'id':'drkMY', 'id_raw': '198607140'} atClickTracking contact-a\"})"
   ]
  },
  {
   "cell_type": "code",
   "execution_count": 156,
   "metadata": {},
   "outputs": [],
   "source": [
    "from selenium.webdriver.support.ui import WebDriverWait\n",
    "from selenium.webdriver.support import expected_conditions as EC\n",
    "from selenium.webdriver.common.by import By\n",
    "from time import sleep\n",
    "from selenium import webdriver \n",
    "from bs4 import BeautifulSoup"
   ]
  },
  {
   "cell_type": "code",
   "execution_count": 157,
   "metadata": {},
   "outputs": [
    {
     "ename": "SessionNotCreatedException",
     "evalue": "Message: session not created exception: Chrome version must be >= 64.0.3282.0\n  (Driver info: chromedriver=2.37.544315 (730aa6a5fdba159ac9f4c1e8cbc59bf1b5ce12b7),platform=Windows NT 10.0.15063 x86_64)\n",
     "output_type": "error",
     "traceback": [
      "\u001b[1;31m---------------------------------------------------------------------------\u001b[0m",
      "\u001b[1;31mSessionNotCreatedException\u001b[0m                Traceback (most recent call last)",
      "\u001b[1;32m<ipython-input-157-65cceaef3351>\u001b[0m in \u001b[0;36m<module>\u001b[1;34m()\u001b[0m\n\u001b[1;32m----> 1\u001b[1;33m \u001b[0mdriver\u001b[0m \u001b[1;33m=\u001b[0m \u001b[0mwebdriver\u001b[0m\u001b[1;33m.\u001b[0m\u001b[0mChrome\u001b[0m\u001b[1;33m(\u001b[0m\u001b[1;33m)\u001b[0m\u001b[1;33m\u001b[0m\u001b[0m\n\u001b[0m\u001b[0;32m      2\u001b[0m     \u001b[1;31m#r\"C:\\Users\\mkhamzanov\\Desktop\\olx_parse\\chromedriver.exe\")\u001b[0m\u001b[1;33m\u001b[0m\u001b[1;33m\u001b[0m\u001b[0m\n\u001b[0;32m      3\u001b[0m \u001b[1;31m#url='https://angel.co/life-sciences'\u001b[0m\u001b[1;33m\u001b[0m\u001b[1;33m\u001b[0m\u001b[0m\n",
      "\u001b[1;32m~\\AppData\\Local\\Continuum\\miniconda3\\lib\\site-packages\\selenium\\webdriver\\chrome\\webdriver.py\u001b[0m in \u001b[0;36m__init__\u001b[1;34m(self, executable_path, port, options, service_args, desired_capabilities, service_log_path, chrome_options)\u001b[0m\n\u001b[0;32m     73\u001b[0m                 command_executor=ChromeRemoteConnection(\n\u001b[0;32m     74\u001b[0m                     remote_server_addr=self.service.service_url),\n\u001b[1;32m---> 75\u001b[1;33m                 desired_capabilities=desired_capabilities)\n\u001b[0m\u001b[0;32m     76\u001b[0m         \u001b[1;32mexcept\u001b[0m \u001b[0mException\u001b[0m\u001b[1;33m:\u001b[0m\u001b[1;33m\u001b[0m\u001b[0m\n\u001b[0;32m     77\u001b[0m             \u001b[0mself\u001b[0m\u001b[1;33m.\u001b[0m\u001b[0mquit\u001b[0m\u001b[1;33m(\u001b[0m\u001b[1;33m)\u001b[0m\u001b[1;33m\u001b[0m\u001b[0m\n",
      "\u001b[1;32m~\\AppData\\Local\\Continuum\\miniconda3\\lib\\site-packages\\selenium\\webdriver\\remote\\webdriver.py\u001b[0m in \u001b[0;36m__init__\u001b[1;34m(self, command_executor, desired_capabilities, browser_profile, proxy, keep_alive, file_detector, options)\u001b[0m\n\u001b[0;32m    152\u001b[0m             warnings.warn(\"Please use FirefoxOptions to set browser profile\",\n\u001b[0;32m    153\u001b[0m                           DeprecationWarning)\n\u001b[1;32m--> 154\u001b[1;33m         \u001b[0mself\u001b[0m\u001b[1;33m.\u001b[0m\u001b[0mstart_session\u001b[0m\u001b[1;33m(\u001b[0m\u001b[0mdesired_capabilities\u001b[0m\u001b[1;33m,\u001b[0m \u001b[0mbrowser_profile\u001b[0m\u001b[1;33m)\u001b[0m\u001b[1;33m\u001b[0m\u001b[0m\n\u001b[0m\u001b[0;32m    155\u001b[0m         \u001b[0mself\u001b[0m\u001b[1;33m.\u001b[0m\u001b[0m_switch_to\u001b[0m \u001b[1;33m=\u001b[0m \u001b[0mSwitchTo\u001b[0m\u001b[1;33m(\u001b[0m\u001b[0mself\u001b[0m\u001b[1;33m)\u001b[0m\u001b[1;33m\u001b[0m\u001b[0m\n\u001b[0;32m    156\u001b[0m         \u001b[0mself\u001b[0m\u001b[1;33m.\u001b[0m\u001b[0m_mobile\u001b[0m \u001b[1;33m=\u001b[0m \u001b[0mMobile\u001b[0m\u001b[1;33m(\u001b[0m\u001b[0mself\u001b[0m\u001b[1;33m)\u001b[0m\u001b[1;33m\u001b[0m\u001b[0m\n",
      "\u001b[1;32m~\\AppData\\Local\\Continuum\\miniconda3\\lib\\site-packages\\selenium\\webdriver\\remote\\webdriver.py\u001b[0m in \u001b[0;36mstart_session\u001b[1;34m(self, capabilities, browser_profile)\u001b[0m\n\u001b[0;32m    241\u001b[0m         parameters = {\"capabilities\": w3c_caps,\n\u001b[0;32m    242\u001b[0m                       \"desiredCapabilities\": capabilities}\n\u001b[1;32m--> 243\u001b[1;33m         \u001b[0mresponse\u001b[0m \u001b[1;33m=\u001b[0m \u001b[0mself\u001b[0m\u001b[1;33m.\u001b[0m\u001b[0mexecute\u001b[0m\u001b[1;33m(\u001b[0m\u001b[0mCommand\u001b[0m\u001b[1;33m.\u001b[0m\u001b[0mNEW_SESSION\u001b[0m\u001b[1;33m,\u001b[0m \u001b[0mparameters\u001b[0m\u001b[1;33m)\u001b[0m\u001b[1;33m\u001b[0m\u001b[0m\n\u001b[0m\u001b[0;32m    244\u001b[0m         \u001b[1;32mif\u001b[0m \u001b[1;34m'sessionId'\u001b[0m \u001b[1;32mnot\u001b[0m \u001b[1;32min\u001b[0m \u001b[0mresponse\u001b[0m\u001b[1;33m:\u001b[0m\u001b[1;33m\u001b[0m\u001b[0m\n\u001b[0;32m    245\u001b[0m             \u001b[0mresponse\u001b[0m \u001b[1;33m=\u001b[0m \u001b[0mresponse\u001b[0m\u001b[1;33m[\u001b[0m\u001b[1;34m'value'\u001b[0m\u001b[1;33m]\u001b[0m\u001b[1;33m\u001b[0m\u001b[0m\n",
      "\u001b[1;32m~\\AppData\\Local\\Continuum\\miniconda3\\lib\\site-packages\\selenium\\webdriver\\remote\\webdriver.py\u001b[0m in \u001b[0;36mexecute\u001b[1;34m(self, driver_command, params)\u001b[0m\n\u001b[0;32m    310\u001b[0m         \u001b[0mresponse\u001b[0m \u001b[1;33m=\u001b[0m \u001b[0mself\u001b[0m\u001b[1;33m.\u001b[0m\u001b[0mcommand_executor\u001b[0m\u001b[1;33m.\u001b[0m\u001b[0mexecute\u001b[0m\u001b[1;33m(\u001b[0m\u001b[0mdriver_command\u001b[0m\u001b[1;33m,\u001b[0m \u001b[0mparams\u001b[0m\u001b[1;33m)\u001b[0m\u001b[1;33m\u001b[0m\u001b[0m\n\u001b[0;32m    311\u001b[0m         \u001b[1;32mif\u001b[0m \u001b[0mresponse\u001b[0m\u001b[1;33m:\u001b[0m\u001b[1;33m\u001b[0m\u001b[0m\n\u001b[1;32m--> 312\u001b[1;33m             \u001b[0mself\u001b[0m\u001b[1;33m.\u001b[0m\u001b[0merror_handler\u001b[0m\u001b[1;33m.\u001b[0m\u001b[0mcheck_response\u001b[0m\u001b[1;33m(\u001b[0m\u001b[0mresponse\u001b[0m\u001b[1;33m)\u001b[0m\u001b[1;33m\u001b[0m\u001b[0m\n\u001b[0m\u001b[0;32m    313\u001b[0m             response['value'] = self._unwrap_value(\n\u001b[0;32m    314\u001b[0m                 response.get('value', None))\n",
      "\u001b[1;32m~\\AppData\\Local\\Continuum\\miniconda3\\lib\\site-packages\\selenium\\webdriver\\remote\\errorhandler.py\u001b[0m in \u001b[0;36mcheck_response\u001b[1;34m(self, response)\u001b[0m\n\u001b[0;32m    240\u001b[0m                 \u001b[0malert_text\u001b[0m \u001b[1;33m=\u001b[0m \u001b[0mvalue\u001b[0m\u001b[1;33m[\u001b[0m\u001b[1;34m'alert'\u001b[0m\u001b[1;33m]\u001b[0m\u001b[1;33m.\u001b[0m\u001b[0mget\u001b[0m\u001b[1;33m(\u001b[0m\u001b[1;34m'text'\u001b[0m\u001b[1;33m)\u001b[0m\u001b[1;33m\u001b[0m\u001b[0m\n\u001b[0;32m    241\u001b[0m             \u001b[1;32mraise\u001b[0m \u001b[0mexception_class\u001b[0m\u001b[1;33m(\u001b[0m\u001b[0mmessage\u001b[0m\u001b[1;33m,\u001b[0m \u001b[0mscreen\u001b[0m\u001b[1;33m,\u001b[0m \u001b[0mstacktrace\u001b[0m\u001b[1;33m,\u001b[0m \u001b[0malert_text\u001b[0m\u001b[1;33m)\u001b[0m\u001b[1;33m\u001b[0m\u001b[0m\n\u001b[1;32m--> 242\u001b[1;33m         \u001b[1;32mraise\u001b[0m \u001b[0mexception_class\u001b[0m\u001b[1;33m(\u001b[0m\u001b[0mmessage\u001b[0m\u001b[1;33m,\u001b[0m \u001b[0mscreen\u001b[0m\u001b[1;33m,\u001b[0m \u001b[0mstacktrace\u001b[0m\u001b[1;33m)\u001b[0m\u001b[1;33m\u001b[0m\u001b[0m\n\u001b[0m\u001b[0;32m    243\u001b[0m \u001b[1;33m\u001b[0m\u001b[0m\n\u001b[0;32m    244\u001b[0m     \u001b[1;32mdef\u001b[0m \u001b[0m_value_or_default\u001b[0m\u001b[1;33m(\u001b[0m\u001b[0mself\u001b[0m\u001b[1;33m,\u001b[0m \u001b[0mobj\u001b[0m\u001b[1;33m,\u001b[0m \u001b[0mkey\u001b[0m\u001b[1;33m,\u001b[0m \u001b[0mdefault\u001b[0m\u001b[1;33m)\u001b[0m\u001b[1;33m:\u001b[0m\u001b[1;33m\u001b[0m\u001b[0m\n",
      "\u001b[1;31mSessionNotCreatedException\u001b[0m: Message: session not created exception: Chrome version must be >= 64.0.3282.0\n  (Driver info: chromedriver=2.37.544315 (730aa6a5fdba159ac9f4c1e8cbc59bf1b5ce12b7),platform=Windows NT 10.0.15063 x86_64)\n"
     ]
    }
   ],
   "source": [
    "driver = webdriver.Chrome()\n",
    "    #r\"C:\\Users\\mkhamzanov\\Desktop\\olx_parse\\chromedriver.exe\")\n",
    "#url='https://angel.co/life-sciences'"
   ]
  },
  {
   "cell_type": "code",
   "execution_count": null,
   "metadata": {},
   "outputs": [],
   "source": []
  },
  {
   "cell_type": "code",
   "execution_count": null,
   "metadata": {},
   "outputs": [],
   "source": []
  },
  {
   "cell_type": "code",
   "execution_count": 159,
   "metadata": {},
   "outputs": [
    {
     "data": {
      "text/plain": [
       "[<span class=\"link spoiler small nowrap\">\n",
       " <span>Показать</span>\n",
       " </span>, <span class=\"link spoiler small nowrap\">\n",
       " <span>Показать</span>\n",
       " </span>]"
      ]
     },
     "execution_count": 159,
     "metadata": {},
     "output_type": "execute_result"
    }
   ],
   "source": [
    "stg_3 = soup_tmp.findAll('span', {'class': \"link spoiler small nowrap\"})\n",
    "stg_3"
   ]
  },
  {
   "cell_type": "code",
   "execution_count": null,
   "metadata": {},
   "outputs": [],
   "source": []
  },
  {
   "cell_type": "code",
   "execution_count": null,
   "metadata": {},
   "outputs": [],
   "source": []
  },
  {
   "cell_type": "code",
   "execution_count": null,
   "metadata": {},
   "outputs": [],
   "source": []
  },
  {
   "cell_type": "code",
   "execution_count": 116,
   "metadata": {},
   "outputs": [
    {
     "ename": "IndentationError",
     "evalue": "unindent does not match any outer indentation level (<tokenize>, line 4)",
     "output_type": "error",
     "traceback": [
      "\u001b[1;36m  File \u001b[1;32m\"<tokenize>\"\u001b[1;36m, line \u001b[1;32m4\u001b[0m\n\u001b[1;33m    <span class=\"spoiler\">\u001b[0m\n\u001b[1;37m    ^\u001b[0m\n\u001b[1;31mIndentationError\u001b[0m\u001b[1;31m:\u001b[0m unindent does not match any outer indentation level\n"
     ]
    }
   ],
   "source": [
    "<div class=\"contact-button link-phone {'path':'phone', 'id':'drkMY', 'id_raw': '198607140'} atClickTracking contact-a\" data-rel=\"phone\">\n",
    "\t\t\t<i data-icon=\"phone\"></i>\n",
    "\t\t\t\t\t\t\t<strong class=\"xx-large\">+7xxxxxxxxxx</strong>\n",
    "\t\t\t\t<span class=\"spoiler\">\n",
    "\t\t\t\t\tПоказать\t\t\t\t</span>\n",
    "\t\t\t\t\t</div>"
   ]
  },
  {
   "cell_type": "code",
   "execution_count": null,
   "metadata": {},
   "outputs": [],
   "source": [
    "<div class=\"contact-button link-phone {'path':'phone', 'id':'drkMY', 'id_raw': '198607140'} atClickTracking contact-a activated\" data-rel=\"phone\">\n",
    "\t\t\t<i data-icon=\"phone\"></i>\n",
    "\t\t\t\t\t\t\t<strong class=\"xx-large\">+77783097440</strong>\n",
    "\t\t\t\t<span class=\"spoiler\" style=\"display: none;\">\n",
    "\t\t\t\t\tПоказать\t\t\t\t</span>\n",
    "\t\t\t\t\t</div>"
   ]
  },
  {
   "cell_type": "code",
   "execution_count": null,
   "metadata": {},
   "outputs": [],
   "source": []
  },
  {
   "cell_type": "code",
   "execution_count": null,
   "metadata": {},
   "outputs": [],
   "source": []
  }
 ],
 "metadata": {
  "kernelspec": {
   "display_name": "Python 3",
   "language": "python",
   "name": "python3"
  },
  "language_info": {
   "codemirror_mode": {
    "name": "ipython",
    "version": 3
   },
   "file_extension": ".py",
   "mimetype": "text/x-python",
   "name": "python",
   "nbconvert_exporter": "python",
   "pygments_lexer": "ipython3",
   "version": "3.6.4"
  }
 },
 "nbformat": 4,
 "nbformat_minor": 2
}
